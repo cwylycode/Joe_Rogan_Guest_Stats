{
 "cells": [
  {
   "cell_type": "markdown",
   "id": "3708bdcc-f366-4fd2-8f2d-ed86389de7be",
   "metadata": {},
   "source": [
    "# Joe Rogan Guest Statistics & Data Collection"
   ]
  },
  {
   "cell_type": "code",
   "execution_count": 9,
   "id": "089fa31f-9e6a-41fc-b0db-7432ac8d5760",
   "metadata": {},
   "outputs": [],
   "source": [
    "import cnw_scraper as cnw\n",
    "import pandas\n",
    "import bs4\n",
    "import requests\n",
    "import json\n",
    "import re\n",
    "import os"
   ]
  },
  {
   "cell_type": "markdown",
   "id": "3a161504-5740-417e-92d9-3d735c72bbfe",
   "metadata": {},
   "source": [
    "#### (testing area)"
   ]
  },
  {
   "cell_type": "code",
   "execution_count": null,
   "id": "005ec40b-c030-41e2-8371-bac5757cee25",
   "metadata": {},
   "outputs": [],
   "source": [
    "collect_guest_data(\".data/test/guest_data.json\",True,True)"
   ]
  },
  {
   "cell_type": "code",
   "execution_count": 10,
   "id": "d105569b-65c6-465b-aaa0-d70b0e26d275",
   "metadata": {},
   "outputs": [],
   "source": [
    "df = pandas.read_json(\".data/test/guest_data.json\")"
   ]
  },
  {
   "cell_type": "markdown",
   "id": "4c2e03f0-7b79-46c7-856e-f768edf33a48",
   "metadata": {},
   "source": [
    "### Data Collection Function\n",
    "Run these cells to get the latest guest data and write it to a JSON file. Then, load it into pandas."
   ]
  },
  {
   "cell_type": "code",
   "execution_count": 1,
   "id": "4fc45a8e-2b44-432c-98b9-7ab54fc23901",
   "metadata": {
    "jupyter": {
     "source_hidden": true
    },
    "tags": []
   },
   "outputs": [],
   "source": [
    "def collect_guest_data(file_path:str,update_logs:bool=False,cnw_logs:bool=False):\n",
    "    \"\"\"\n",
    "    Collect Joe Rogan guest data and write to file with newest data from podcast using data sites and my CNW_Scraper tool's scrape_names function. Data is written out as a JSON and is ordered by guests that appeared from the latest episodes till the earliest.\n",
    "\n",
    "    Data came from jrelibrary.com and DataWrapper. There is so much junk in here - unicode identifiers for non-ascii guest names, extra backslashes, inconsistent naming and multiple guest conventions used, missing names, hyperlinks sprinkled everywhere, extra quotes and other characters, junk html, ugh...\n",
    "\n",
    "    The data is from the general podcasts ONLY - no MMA, fight companion, specials. Name and which episodes a guest appeared on are collected from jrelibrary, and the extra stuff (if avaliable) is from celebritynetworth. It's not perfect, but the data that gets collected is even less perfect. So...Enjoy.\n",
    "\n",
    "    :file_path: String to where you want to save the guest data (file type should be saved as JSON, but whatever floats yer boat.) Will be overwritten if file already exists.\n",
    "\n",
    "    :update_logs: Print to terminal what this function is doing? False by default.\n",
    "\n",
    "    :cnw_logs: Set CNW verbose, console printing, and log file writing to true. Log file is written next to the file you set at file_path. Name is 'cnw.log' with date/time logging active. False by default.\n",
    "\n",
    "    :return: None.\n",
    "    \"\"\"\n",
    "\n",
    "    # Got a valid path for that file?\n",
    "    try:\n",
    "        with open(file_path,\"w\") as f:\n",
    "            pass\n",
    "    except:\n",
    "        raise ValueError(\"Ya dun goofed - file path invalid or inaccessible.\")\n",
    "\n",
    "    if update_logs: print(\"Updating guest data ...\\n\")\n",
    "\n",
    "    # If Rogan has any more guests on with funny names that only unicode can handle, add those chars here.\n",
    "    uni_chars = {r\"\\u2019\":\"'\",r\"\\u00E9\":\"e\",r\"\\u00F1\":\"n\"}\n",
    "    url = \"https://datawrapper.dwcdn.net/eoqPA/\"\n",
    "    usr_agt = \"Young Jamie\" # LOL\n",
    "\n",
    "    # Perform html request for data\n",
    "    if update_logs: print(\"Getting raw data ...\")\n",
    "    with requests.get(url=url,headers={\"user-agent\":usr_agt},timeout=10) as response:\n",
    "        response.raise_for_status()\n",
    "        # Find latest data url link.\n",
    "        url = re.search(r'(?<=url=).+?(?=\")',response.text).group(0)\n",
    "        with requests.get(url=url,headers={\"user-agent\":usr_agt},timeout=10) as response:\n",
    "            response.raise_for_status()\n",
    "            html = response.content\n",
    "\n",
    "    # *cries in regex...and in unicode...and in bytes...and in backslashes*\n",
    "    if update_logs: print(\"Parsing raw data ...\")\n",
    "    raw_script = bs4.BeautifulSoup(html,\"html.parser\").find_all(\"script\")[1].contents[0]\n",
    "    for k,v in uni_chars.items():\n",
    "        raw_script = raw_script.replace(k,v)\n",
    "    clean_script = raw_script.replace(\"\\\\\",\"\").replace(\"\\\"\\\"\",\"\\\"\")\n",
    "    raw_entries = [l[0] for l in re.findall(r'((rn|\">)#.+?\\d{4}\")',clean_script)]\n",
    "    # Entries are three parts: episode number, name(s) of guests, date of episode.\n",
    "    entries = list(map(lambda x: x[3:].replace(\"</a>\\\"\",\"\"),raw_entries))\n",
    "\n",
    "    # Create basic guest data from jrelibrary.com/datawrapper.\n",
    "    if update_logs: print(\"Setting up data objects ...\")\n",
    "    guest_data = []\n",
    "    fix_exceptions = [\"Dr. Phil\",\"Mr. T\"] # Add more if needed.\n",
    "    fix_removal = [\"Dr. \",\"Mr. \",\"Mrs. \",\"Ms. \",\"Cmdr. \"] # Ditto.\n",
    "    fix = lambda x,r: x.replace(r, \"\") if x not in fix_exceptions else x\n",
    "    for e in entries:\n",
    "        ep_num = re.match(r'\\d+',e).group(0)\n",
    "        date = re.search(r'\"\\w+\\s\\d+,\\s\\d+\"$',e).group(0)[1:-1]\n",
    "        name_data = re.search(r'(?<=\\d,)\"?\"?\\w.+(?=,\")',e)\n",
    "        if not name_data: continue\n",
    "        name_data = name_data.group(0)\n",
    "        # Get rid of extra junk from name data.\n",
    "        name_data = name_data[1:-1] if name_data[0] == \"\\\"\" else name_data\n",
    "        if \": \" in name_data:\n",
    "            name_data = name_data[name_data.find(\": \")+1:]\n",
    "        if \"- \" in name_data:\n",
    "            name_data = name_data[name_data.find(\"- \")+1:]\n",
    "        name_data.strip()\n",
    "        # Split up multiple guests if any.\n",
    "        names = list(map(lambda x: x.strip(),re.split(r',|&',name_data)))\n",
    "        ap = {\"Episode\": ep_num,\"Date\": date}\n",
    "        for n in names:\n",
    "            for f in fix_removal:\n",
    "                n = fix(n,f).strip()\n",
    "            for i,d in enumerate(guest_data):\n",
    "                if n == d[\"Name\"]:\n",
    "                    # This person already exists - add appearance.\n",
    "                    guest_data[i][\"Appearances\"].append(ap)\n",
    "                    break\n",
    "            else:\n",
    "                guest_data.append({\"Name\":n,\"Appearances\":[ap]})\n",
    "\n",
    "    # Get remaining data from celebritynetworth.com using my handy scraper.\n",
    "    if update_logs: print(\"Collecting extra data from CNW (this may take a bit) ...\")\n",
    "    cnw.Options.custom_user_agent = usr_agt\n",
    "    if cnw_logs:\n",
    "        cnw.Logs.print_to_console = True\n",
    "        cnw.Logs.verbose = True\n",
    "        cnw.Logs.write_to_file(os.path.split(file_path)[0]+\"/cnw\")\n",
    "    profiles = cnw.scrape_names([d[\"Name\"] for d in guest_data])\n",
    "\n",
    "    # Add extra data to the guests.\n",
    "    if update_logs: print(\"Parsing and adding extra data ...\")\n",
    "    valid_chars = lambda c: c.isalnum() or any([x in c for x in [\" \",\"-\",\"'\"]])\n",
    "    parse_name = lambda n: \"\".join(filter(valid_chars, n)).strip()\n",
    "    for i in range(len(guest_data)):\n",
    "        for field in cnw.Profile.fields:\n",
    "            if field == \"Name\": continue\n",
    "            guest_data[i][field] = None\n",
    "        guest_name = parse_name(guest_data[i][\"Name\"])\n",
    "        for p in profiles:\n",
    "            t = p.description.lower()[:400]\n",
    "            if all([x in t for x in guest_name.lower().split()]):\n",
    "                for k in guest_data[i].keys():\n",
    "                    if k not in p.stats:continue\n",
    "                    if k == \"Name\": continue\n",
    "                    guest_data[i][k] = p.stats[k]\n",
    "                break\n",
    "\n",
    "    # Write data and done.\n",
    "    if update_logs: print(\"Writing data to file ...\")\n",
    "    with open(file_path,\"w\") as f:\n",
    "        json.dump(guest_data,f,indent=4)\n",
    "    if update_logs: print(\"\\nGuest updates done.\\n\")"
   ]
  },
  {
   "cell_type": "code",
   "execution_count": 6,
   "id": "c01af98c-528d-42cc-9798-050439d93cb9",
   "metadata": {},
   "outputs": [],
   "source": [
    "collect_guest_data(<insert file path here>,True,True)"
   ]
  },
  {
   "cell_type": "code",
   "execution_count": 5,
   "id": "e4e0621f-6155-4d7b-8a31-ac47867f63e1",
   "metadata": {},
   "outputs": [],
   "source": [
    "df = pandas.read_json(<insert file path here>)"
   ]
  },
  {
   "cell_type": "markdown",
   "id": "481eadd1-f40d-4670-8ecf-b96b7978d669",
   "metadata": {},
   "source": [
    "### FUN!\n",
    "Run these cells to see various data facts and statistics about the guests - write your own!"
   ]
  },
  {
   "cell_type": "code",
   "execution_count": null,
   "id": "1210491f-64d2-465d-91e5-5aa0da139396",
   "metadata": {
    "tags": []
   },
   "outputs": [],
   "source": [
    "# See guests alphabetically\n",
    "df.sort_values(\"Name\")"
   ]
  },
  {
   "cell_type": "code",
   "execution_count": null,
   "id": "bedb0f88-0ae6-43f6-bcbc-6374cc018b3d",
   "metadata": {},
   "outputs": [],
   "source": [
    "# How many guests have extra data?\n"
   ]
  },
  {
   "cell_type": "code",
   "execution_count": null,
   "id": "4078b2ec-021f-49c8-8b0f-08cc4d4cd05f",
   "metadata": {},
   "outputs": [],
   "source": [
    "# Who's the richest/poorest?\n",
    "df = df[df[\"Net Worth\"].notna()]\n",
    "df = df[[\"Name\",\"Net Worth\"]]\n",
    "df = df.sort_values(\"Net Worth\",ascending=False)\n",
    "df[\"Net Worth\"] = df[\"Net Worth\"].apply(lambda x: \"{:,.0F}\".format(x))\n",
    "df"
   ]
  },
  {
   "cell_type": "code",
   "execution_count": null,
   "id": "f03ea724-1f72-4ffd-a898-b9ed88050b97",
   "metadata": {},
   "outputs": [],
   "source": []
  }
 ],
 "metadata": {
  "kernelspec": {
   "display_name": "Python 3",
   "language": "python",
   "name": "python3"
  },
  "language_info": {
   "codemirror_mode": {
    "name": "ipython",
    "version": 3
   },
   "file_extension": ".py",
   "mimetype": "text/x-python",
   "name": "python",
   "nbconvert_exporter": "python",
   "pygments_lexer": "ipython3",
   "version": "3.8.3"
  }
 },
 "nbformat": 4,
 "nbformat_minor": 5
}
