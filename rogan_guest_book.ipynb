{
 "cells": [
  {
   "cell_type": "markdown",
   "id": "49bff566-c035-4bcd-a653-79cdfa81a341",
   "metadata": {},
   "source": [
    "![Joe Rogan embraces the almighty Python](LOLROGAN.jpg \"I ain't apologizing for this work of art.\")\n",
    "\n",
    "---\n",
    "### Rogan Guest Stats Notebook\n",
    "\n",
    "Download, scrape, compile and view various data about the many guests that Joe Rogan has had on his show.\n",
    "\n",
    "The notebook contains many different data insights through the pandas data module. Simply run the appropriate cells to collect and load data, then see which facts and statistics tickle your fancy. Modify and expand if you want.\n",
    "\n",
    "**_Requirements_**: Needs my CNW Scraper module which can be found [here](https://github.com/hexadeci-male/CNW_Scraper). Other modules needed are listed inside the notebook as imports.\n",
    "\n",
    "**_Fun Fact_**: I'm not even a fan of Joe Rogan or anything. Never listened to a single one of his podcasts. I only made this because it was good experience for collection and scraping of web data and because some guy on reddit said it would be interesting to see what kind of data any of his guests would have. Thought it was a neat idea.\n",
    "\n",
    "---"
   ]
  },
  {
   "cell_type": "code",
   "execution_count": null,
   "id": "777292e6-4973-4518-bb21-7c6c96885553",
   "metadata": {},
   "outputs": [],
   "source": [
    "%config Completer.use_jedi = False\n",
    "\n",
    "import cnw_scraper as cnw\n",
    "import pandas\n",
    "import numpy\n",
    "import bs4\n",
    "import requests\n",
    "import json\n",
    "import re\n",
    "import os\n",
    "\n",
    "file_path = \"guest_data.json\""
   ]
  },
  {
   "cell_type": "markdown",
   "id": "4c2e03f0-7b79-46c7-856e-f768edf33a48",
   "metadata": {},
   "source": [
    "---\n",
    "### Data Collection\n",
    "Run these cells to get the latest guest data and write it to a JSON file, then load the cleaned-up data into pandas.\n",
    "\n",
    "---"
   ]
  },
  {
   "cell_type": "code",
   "execution_count": null,
   "id": "4fc45a8e-2b44-432c-98b9-7ab54fc23901",
   "metadata": {
    "tags": []
   },
   "outputs": [],
   "source": [
    "# Modify as needed.\n",
    "\n",
    "def collect_guest_data(file_path:str,update_logs:bool=False,cnw_logs:bool=False):\n",
    "    \"\"\"\n",
    "    Collect Joe Rogan guest data and write to file with newest data from podcast using data sites and my CNW_Scraper tool's scrape_names function. Data is written out as a JSON and is ordered by guests that appeared from the latest episodes till the earliest.\n",
    "\n",
    "    Data came from jrelibrary.com and DataWrapper. There is so much junk in here - unicode identifiers for non-ascii guest names, extra backslashes, inconsistent naming and multiple guest conventions used, missing names, hyperlinks sprinkled everywhere, extra quotes and other characters, junk html, ugh...\n",
    "\n",
    "    The data is from the general podcasts ONLY - no MMA, fight companion, specials. Name and which episodes a guest appeared on are collected from jrelibrary, and the extra stuff (if avaliable) is from celebritynetworth. It's not perfect, but the data that gets collected is even less perfect. So...Enjoy.\n",
    "\n",
    "    :file_path: String to where you want to save the guest data (file type should be saved as JSON, but whatever floats yer boat.) Will be overwritten if file already exists.\n",
    "\n",
    "    :update_logs: Print to terminal what this function is doing? False by default.\n",
    "\n",
    "    :cnw_logs: Set CNW verbose, console printing, and log file writing to true. Log file is written next to the file you set at file_path. Name is 'cnw.log' with date/time logging active. False by default.\n",
    "\n",
    "    :return: None.\n",
    "    \"\"\"\n",
    "\n",
    "    # Got a valid path for that file?\n",
    "    try:\n",
    "        with open(file_path,\"w\") as f:\n",
    "            pass\n",
    "    except:\n",
    "        raise ValueError(\"Ya dun goofed - file path invalid or inaccessible.\")\n",
    "\n",
    "    if update_logs: print(\"Updating guest data ...\\n\")\n",
    "\n",
    "    # If Rogan has any more guests on with funny names that only unicode can handle, add those chars here.\n",
    "    uni_chars = {r\"\\u2019\":\"'\",r\"\\u00E9\":\"e\",r\"\\u00F1\":\"n\"}\n",
    "    url = \"https://datawrapper.dwcdn.net/eoqPA/\"\n",
    "    usr_agt = \"Young Jamie\" # LOL\n",
    "\n",
    "    # Perform html request for data\n",
    "    if update_logs: print(\"Getting raw data ...\")\n",
    "    with requests.get(url=url,headers={\"user-agent\":usr_agt},timeout=10) as response:\n",
    "        response.raise_for_status()\n",
    "        # Find latest data url link.\n",
    "        url = re.search(r'(?<=url=).+?(?=\")',response.text).group(0)\n",
    "        with requests.get(url=url,headers={\"user-agent\":usr_agt},timeout=10) as response:\n",
    "            response.raise_for_status()\n",
    "            html = response.content\n",
    "\n",
    "    # *cries in regex...and in unicode...and in bytes...and in backslashes*\n",
    "    if update_logs: print(\"Parsing raw data ...\")\n",
    "    raw_script = bs4.BeautifulSoup(html,\"html.parser\").find_all(\"script\")[1].contents[0]\n",
    "    for k,v in uni_chars.items():\n",
    "        raw_script = raw_script.replace(k,v)\n",
    "    clean_script = raw_script.replace(\"\\\\\",\"\").replace(\"\\\"\\\"\",\"\\\"\")\n",
    "    raw_entries = [l[0] for l in re.findall(r'((rn|\">)#.+?\\d{4}\")',clean_script)]\n",
    "    # Entries are three parts: episode number, name(s) of guests, date of episode.\n",
    "    entries = list(map(lambda x: x[3:].replace(\"</a>\\\"\",\"\"),raw_entries))\n",
    "\n",
    "    # Create basic guest data from jrelibrary.com/datawrapper.\n",
    "    if update_logs: print(\"Setting up data objects ...\")\n",
    "    guest_data = []\n",
    "    fix_exceptions = [\"Dr. Phil\",\"Mr. T\"] # Add more if needed.\n",
    "    fix_removal = [\"Dr. \",\"Mr. \",\"Mrs. \",\"Ms. \",\"Cmdr. \"] # Ditto.\n",
    "    fix = lambda x,r: x.replace(r, \"\") if x not in fix_exceptions else x\n",
    "    for e in entries:\n",
    "        ep_num = re.match(r'\\d+',e).group(0)\n",
    "        date = re.search(r'\"\\w+\\s\\d+,\\s\\d+\"$',e).group(0)[1:-1]\n",
    "        name_data = re.search(r'(?<=\\d,)\"?\"?\\w.+(?=,\")',e)\n",
    "        if not name_data: continue\n",
    "        name_data = name_data.group(0)\n",
    "        # Get rid of extra junk from name data.\n",
    "        name_data = name_data[1:-1] if name_data[0] == \"\\\"\" else name_data\n",
    "        if \": \" in name_data:\n",
    "            name_data = name_data[name_data.find(\": \")+1:]\n",
    "        if \"- \" in name_data:\n",
    "            name_data = name_data[name_data.find(\"- \")+1:]\n",
    "        name_data.strip()\n",
    "        # Split up multiple guests if any.\n",
    "        names = list(map(lambda x: x.strip(),re.split(r',|&',name_data)))\n",
    "        ap = {\"Episode\": ep_num,\"Date\": date}\n",
    "        for n in names:\n",
    "            for f in fix_removal:\n",
    "                n = fix(n,f).strip()\n",
    "            for i,d in enumerate(guest_data):\n",
    "                if n == d[\"Name\"]:\n",
    "                    # This person already exists - add appearance.\n",
    "                    guest_data[i][\"Appearances\"].append(ap)\n",
    "                    break\n",
    "            else:\n",
    "                guest_data.append({\"Name\":n,\"Appearances\":[ap]})\n",
    "\n",
    "    # Get remaining data from celebritynetworth.com using my handy scraper.\n",
    "    if update_logs: print(\"Collecting extra data from CNW (this may take a bit) ...\")\n",
    "    cnw.Options.custom_user_agent = usr_agt\n",
    "    if cnw_logs:\n",
    "        cnw.Logs.print_to_console = True\n",
    "        cnw.Logs.verbose = True\n",
    "        cnw.Logs.write_to_file(os.path.split(file_path)[0]+\"/cnw\")\n",
    "    profiles = cnw.scrape_names([d[\"Name\"] for d in guest_data])\n",
    "\n",
    "    # Add extra data to the guests.\n",
    "    if update_logs: print(\"Parsing and adding extra data ...\")\n",
    "    valid_chars = lambda c: c.isalnum() or any([x in c for x in [\" \",\"-\",\"'\"]])\n",
    "    parse_name = lambda n: \"\".join(filter(valid_chars, n)).strip()\n",
    "    for i in range(len(guest_data)):\n",
    "        for field in cnw.Profile.fields:\n",
    "            if field == \"Name\": continue\n",
    "            guest_data[i][field] = None\n",
    "        guest_name = parse_name(guest_data[i][\"Name\"])\n",
    "        for p in profiles:\n",
    "            t = p.description.lower()[:400]\n",
    "            if all([x in t for x in guest_name.lower().split()]):\n",
    "                for k in guest_data[i].keys():\n",
    "                    if k not in p.stats:continue\n",
    "                    if k == \"Name\": continue\n",
    "                    guest_data[i][k] = p.stats[k]\n",
    "                break\n",
    "\n",
    "    # Write data and done.\n",
    "    if update_logs: print(\"Writing data to file ...\")\n",
    "    with open(file_path,\"w\") as f:\n",
    "        json.dump(guest_data,f,indent=4)\n",
    "    if update_logs: print(\"\\nGuest updates done.\\n\")"
   ]
  },
  {
   "cell_type": "code",
   "execution_count": null,
   "id": "005ec40b-c030-41e2-8371-bac5757cee25",
   "metadata": {},
   "outputs": [],
   "source": [
    "# Get the latest data, if you don't have it already.\n",
    "collect_guest_data(file_path,True,True)"
   ]
  },
  {
   "cell_type": "code",
   "execution_count": null,
   "id": "d105569b-65c6-465b-aaa0-d70b0e26d275",
   "metadata": {},
   "outputs": [],
   "source": [
    "# Load dataframe and tidy up data\n",
    "df = pandas.read_json(file_path)\n",
    "def clean_date(x):\n",
    "    r = re.search(r'\\w{3}\\s\\d{1,2},\\s\\d{4}',x)\n",
    "    if r: return r.group()\n",
    "    else: return x\n",
    "clean_dates = df['Date of Birth'].map(clean_date,na_action=\"ignore\")\n",
    "df['Date of Birth'] = pandas.to_datetime(clean_dates,errors=\"coerce\")\n",
    "clean_heights = lambda x: re.search(r'(?<=\\().*?(?=\\s)',x).group()\n",
    "df[\"Height\"] = df[\"Height\"].map(clean_heights,na_action=\"ignore\").astype(float)\n",
    "episodes,dates = [],[]\n",
    "for x in df[\"Appearances\"]:\n",
    "    eps,dts = [],[]\n",
    "    for d in x:\n",
    "        eps.append(d[\"Episode\"])\n",
    "        dts.append(d[\"Date\"])\n",
    "    episodes.append(eps)\n",
    "    dates.append(dts)\n",
    "df.drop([\"Appearances\"],axis=1,inplace=True)\n",
    "df.insert(loc=1,column=\"Appearances.Episodes\",value=pandas.Series(episodes))\n",
    "df.insert(loc=2,column=\"Appearances.Dates\",value=pandas.Series(dates))"
   ]
  },
  {
   "cell_type": "markdown",
   "id": "481eadd1-f40d-4670-8ecf-b96b7978d669",
   "metadata": {
    "tags": []
   },
   "source": [
    "---\n",
    "### FUN!\n",
    "Run these cells to see various data facts and statistics about the guests - add your own, if you want!\n",
    "\n",
    "---"
   ]
  },
  {
   "cell_type": "code",
   "execution_count": null,
   "id": "1210491f-64d2-465d-91e5-5aa0da139396",
   "metadata": {
    "tags": []
   },
   "outputs": [],
   "source": [
    "# See guests alphabetically\n",
    "alpha = df.sort_values(\"Name\")\n",
    "alpha[\"Name\"]"
   ]
  },
  {
   "cell_type": "code",
   "execution_count": null,
   "id": "bedb0f88-0ae6-43f6-bcbc-6374cc018b3d",
   "metadata": {},
   "outputs": [],
   "source": [
    "# How many guests have extra data from celebritynetworth?\n",
    "print(f\"Total Guests      {df.shape[0]}\")\n",
    "print(f\"Have extra data   {df.dropna(axis=0,thresh=4).shape[0]}\")"
   ]
  },
  {
   "cell_type": "code",
   "execution_count": null,
   "id": "a7530d46-bc2f-4fee-8a96-979ad2c91ecc",
   "metadata": {},
   "outputs": [],
   "source": [
    "# What's the male/female ratio?\n",
    "mf = df[\"Gender\"].value_counts()\n",
    "ratio = pandas.Series([f\"{mf[0]/mf[1]:.1F} : 1\"])\n",
    "mf.astype(str).append(ratio,ignore_index=True).set_axis([\"Male\",\"Female\",\"Ratio(M/F)\"])"
   ]
  },
  {
   "cell_type": "code",
   "execution_count": null,
   "id": "4078b2ec-021f-49c8-8b0f-08cc4d4cd05f",
   "metadata": {},
   "outputs": [],
   "source": [
    "# Who's the richest/poorest?\n",
    "f = (df[\"Net Worth\"].notna())\n",
    "by_wealth = df.loc[f,[\"Name\",\"Net Worth\"]].sort_values(\"Net Worth\",ascending=False)\n",
    "by_wealth[\"Net Worth\"] = by_wealth[\"Net Worth\"].apply(lambda x: \"{:,.0F}\".format(x))\n",
    "by_wealth"
   ]
  },
  {
   "cell_type": "code",
   "execution_count": null,
   "id": "f03ea724-1f72-4ffd-a898-b9ed88050b97",
   "metadata": {},
   "outputs": [],
   "source": [
    "# Who's the youngest/oldest?\n",
    "f = (df[\"Date of Birth\"].notna())\n",
    "by_age = df.loc[f,[\"Name\",\"Date of Birth\"]].sort_values(\"Date of Birth\",ascending=False)\n",
    "by_age[\"Age\"] = (pandas.to_datetime(\"today\") - by_age[\"Date of Birth\"]) // numpy.timedelta64(1,\"Y\")\n",
    "by_age"
   ]
  },
  {
   "cell_type": "code",
   "execution_count": null,
   "id": "7e00b8e3-1962-46ec-a93d-e1ab4810463c",
   "metadata": {},
   "outputs": [],
   "source": [
    "# Who's the tallest/shortest?\n",
    "f = (df[\"Height\"].notna())\n",
    "by_height = df.loc[f,[\"Name\",\"Height\",\"Gender\",\"Date of Birth\"]].sort_values(\"Height\",ascending=False)\n",
    "by_height[\"Height(Imp)\"] = by_height[\"Height\"].apply(lambda x: f\"{int(x*3.2808399)}ft {x*3.2808399%1*12:0.1F} in\")\n",
    "by_height.rename(columns={\"Height\":\"Height(Met)\"},inplace=True)\n",
    "by_height[[\"Name\",\"Height(Met)\",\"Height(Imp)\",\"Gender\",\"Date of Birth\"]]"
   ]
  },
  {
   "cell_type": "code",
   "execution_count": null,
   "id": "6b696068-3834-4ea5-8420-5791318dd26a",
   "metadata": {},
   "outputs": [],
   "source": [
    "# What salary information do the guests have?\n",
    "f = (df[\"Salary\"].notna())\n",
    "by_salary = df.loc[f,[\"Name\",\"Salary\"]]\n",
    "by_salary"
   ]
  },
  {
   "cell_type": "code",
   "execution_count": null,
   "id": "1cb45b94-a721-4e54-bf3f-7694920e7ab4",
   "metadata": {},
   "outputs": [],
   "source": [
    "# Who appeared the most/least on the show?\n",
    "count = df[\"Appearances.Episodes\"].apply(len)\n",
    "count.name = \"Appearances\"\n",
    "by_app = pandas.concat([df[\"Name\"],count],axis=1)\n",
    "by_app.sort_values([\"Appearances\",\"Name\"],ascending=[False,True])"
   ]
  },
  {
   "cell_type": "code",
   "execution_count": null,
   "id": "09827302-c0a4-40ff-99e4-0fe97d1f4ef6",
   "metadata": {},
   "outputs": [],
   "source": [
    "# How many different nationalities do the guests encompass?\n",
    "nat_count = df[\"Nationality\"].value_counts(dropna=False).rename(index={numpy.nan:\"Unlisted\"})\n",
    "nat_count"
   ]
  },
  {
   "cell_type": "code",
   "execution_count": null,
   "id": "f1c9ecf2-f778-4642-8471-2e292a9aa21f",
   "metadata": {},
   "outputs": [],
   "source": [
    "# Which episodes did a guest appear in?\n",
    "eps = df.rename(columns={\"Appearances.Episodes\":\"Episodes\"})\n",
    "eps[[\"Name\",\"Episodes\"]]"
   ]
  },
  {
   "cell_type": "code",
   "execution_count": null,
   "id": "491b459e-4c61-49af-ad6a-761437848dfb",
   "metadata": {},
   "outputs": [],
   "source": [
    "# What is the wealth and age correlation?\n",
    "w_a = df.loc[:,[\"Net Worth\",\"Date of Birth\"]]\n",
    "w_a[\"Age\"] = (pandas.to_datetime(\"today\") - w_a[\"Date of Birth\"]) // numpy.timedelta64(1,\"Y\")\n",
    "w_a[\"Net Worth\"].corr(w_a[\"Age\"])"
   ]
  },
  {
   "cell_type": "code",
   "execution_count": null,
   "id": "89fa9001-7db5-49ac-9f41-1ebf22430613",
   "metadata": {},
   "outputs": [],
   "source": [
    "# How many guests held a title of each profession?\n",
    "profs = df[\"Profession\"].str.split(\", \",expand=True).stack().str.title()\n",
    "profs.value_counts()"
   ]
  },
  {
   "cell_type": "code",
   "execution_count": null,
   "id": "18742ea1-8820-4562-bac4-342dc10466ff",
   "metadata": {},
   "outputs": [],
   "source": [
    "# What is the relation between a guest's wealth and how many times that guest was on?\n",
    "aps = df[\"Appearances.Episodes\"].apply(len)\n",
    "worth = df[\"Net Worth\"]\n",
    "guest_df = pandas.DataFrame({\"Appearances\":aps,\"Wealth\":worth}).sort_values(\"Wealth\",ascending=False).dropna()\n",
    "\n",
    "# With/without billionaires...\n",
    "# guest_df = guest_df[guest_df[\"Wealth\"] < 1_000_000_000]\n",
    "\n",
    "guest_df.plot(kind=\"scatter\",x=\"Appearances\",y=\"Wealth\")"
   ]
  },
  {
   "cell_type": "markdown",
   "id": "1f4adaf6-bb43-46d9-bc57-3255d13f39b3",
   "metadata": {},
   "source": [
    "---\n",
    "### ETC ...\n",
    "I'm sure you can do better than me. I had basically no experience with pandas or data science/analysis prior to making this notebook. Put some cells down below and see what else you can dig up from the data.\n",
    "\n",
    "---"
   ]
  },
  {
   "cell_type": "code",
   "execution_count": null,
   "id": "9f27af24-fb53-45cf-9176-92f448186dbf",
   "metadata": {},
   "outputs": [],
   "source": []
  }
 ],
 "metadata": {
  "kernelspec": {
   "display_name": "Python 3",
   "language": "python",
   "name": "python3"
  },
  "language_info": {
   "codemirror_mode": {
    "name": "ipython",
    "version": 3
   },
   "file_extension": ".py",
   "mimetype": "text/x-python",
   "name": "python",
   "nbconvert_exporter": "python",
   "pygments_lexer": "ipython3",
   "version": "3.8.3"
  }
 },
 "nbformat": 4,
 "nbformat_minor": 5
}
